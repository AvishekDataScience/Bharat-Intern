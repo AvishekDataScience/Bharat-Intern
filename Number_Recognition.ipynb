{
  "nbformat": 4,
  "nbformat_minor": 0,
  "metadata": {
    "colab": {
      "provenance": [],
      "authorship_tag": "ABX9TyOPMNczd1tn2TpEkMimKz7Z",
      "include_colab_link": true
    },
    "kernelspec": {
      "name": "python3",
      "display_name": "Python 3"
    },
    "language_info": {
      "name": "python"
    }
  },
  "cells": [
    {
      "cell_type": "markdown",
      "metadata": {
        "id": "view-in-github",
        "colab_type": "text"
      },
      "source": [
        "<a href=\"https://colab.research.google.com/github/AvishekDataScience/Bharat-Intern/blob/main/Number_Recognition.ipynb\" target=\"_parent\"><img src=\"https://colab.research.google.com/assets/colab-badge.svg\" alt=\"Open In Colab\"/></a>"
      ]
    },
    {
      "cell_type": "markdown",
      "source": [
        "# **Project Name**    - Number-Recognition\n",
        "\n"
      ],
      "metadata": {
        "id": "K_J1yvha2udh"
      }
    },
    {
      "cell_type": "markdown",
      "source": [
        "##### **Project Type**    - Image Classification\n",
        "##### **Industry**    - Bharat Intern\n",
        "##### **Contribution**    - Individual\n",
        "##### **Team Member 1** -**Avishek Patra**\n"
      ],
      "metadata": {
        "id": "hZcIHNQc3jIe"
      }
    },
    {
      "cell_type": "markdown",
      "source": [
        "![download (1).png](data:image/png;base64,iVBORw0KGgoAAAANSUhEUgAAAxsAAAGBCAYAAAAOvKzFAAAAOXRFWHRTb2Z0d2FyZQBNYXRwbG90bGliIHZlcnNpb24zLjcuMSwgaHR0cHM6Ly9tYXRwbG90bGliLm9yZy/bCgiHAAAACXBIWXMAAA9hAAAPYQGoP6dpAAA5aklEQVR4nO3deVxV1fr48ecoKINkSiCWhqjZoBKOaZlKOeJsDqT1VcsuOdsgOTQ4YN6vlcPXHG6TlpqZlkNm5vDSHJquhhakpVxBzUrMKRxSYP/+8Ce3fdbWsz2cdc4BPu/Xyz/Ww9r7PBwfNjxs1l4OwzAMAQAAAAAPK+XrBAAAAAAUTzQbAAAAALSg2QAAAACgBc0GAAAAAC1oNgAAAABoQbMBAAAAQAuaDQAAAABa0GwAAAAA0IJmAwAAAIAWJbLZqFatmvTv379gvGXLFnE4HLJlyxaf5eTMOUcUH9QffI0ahC9Rf/Al6s/7vN5sLFiwQBwOR8G/oKAgqVWrlgwdOlR+//13b6dTKGvXrpXx48f7Og3F+PHjTe+x878dO3b4OkWfof7027dvnyQnJ0tcXJyEhYVJ5cqVpUOHDrJz505fp+YXqEHvmDx5snTu3FkqVaokDofDb/P0NurPO/Lz82Xq1KkSExMjQUFBEhsbK0uWLPF1Wj5H/Xnf4sWLxeFwSLly5XyWQ4CvXnjixIkSExMjFy5ckO3bt8vcuXNl7dq1kpaWJiEhIV7NpXnz5nL+/HkpU6bMdR23du1amT17tt8VW/fu3aVmzZpKfOzYsZKTkyONGjXyQVb+hfrT56233pK3335bHnroIRk8eLCcPn1a/vWvf0mTJk1k3bp10qpVK1+n6BeoQb2ef/55iYqKknr16snnn3/u63T8DvWn17hx4+Sf//ynPPHEE9KoUSNZtWqV9OnTRxwOhyQmJvo6PZ+j/rwjJydHkpOTJTQ01Kd5+KzZaN++vTRs2FBERAYOHCjh4eEybdo0WbVqlTz88MOWx5w9e1bLG1aqVCkJCgry+Hl9JTY2VmJjY02xw4cPy5EjR2TgwIHX/QVVHFF/+jz88MMyfvx4029RHnvsMbnzzjtl/PjxNBv/HzWo18GDB6VatWpy/PhxiYiI8HU6fof60+eXX36R1157TYYMGSKvv/66iFx+j1u0aCGjRo2Snj17SunSpX2cpW9Rf96RkpIiYWFhEh8fLytXrvRZHn6zZuOBBx4QkcvfIERE+vfvL+XKlZOMjAxJSEiQsLAw6du3r4hcvj05Y8YMqV27tgQFBUmlSpUkKSlJTp48aTqnYRiSkpIiVapUkZCQEImPj5f09HTlta/293rffPONJCQkSIUKFSQ0NFRiY2Nl5syZBfnNnj1bRMR0S/AKT+coIpKRkSEZGRl231KTJUuWiGEYBe8hzKg/z9VfgwYNlNu14eHhcv/998vevXtdHl9SUYOevQZWq1bN1jxcRv15rv5WrVolly5dksGDBxfEHA6HDBo0SI4cOSJfffWVy3OUNNSf538G3L9/v0yfPl2mTZsmAQE+u7cgIj68s+HsyhsYHh5eEMvNzZW2bdtKs2bN5NVXXy24tZaUlCQLFiyQAQMGyPDhw+XgwYPy+uuvS2pqquzYsUMCAwNFROTFF1+UlJQUSUhIkISEBPnuu++kTZs2cvHiRZf5bNiwQTp27CiVK1eWESNGSFRUlOzdu1fWrFkjI0aMkKSkJDl69Khs2LBBFi5cqByvI8cHH3xQREQyMzOv782Vy3+zV7VqVWnevPl1H1sSUH96609E5LfffpObbrrJrWNLAmpQfw3i6qg/z9VfamqqhIaGyp133mmKN27cuODjzZo1c/kelCTUn+evfyNHjpT4+HhJSEiQDz/80NYx2hheNn/+fENEjI0bNxrZ2dnG4cOHjQ8++MAIDw83goODjSNHjhiGYRj9+vUzRMQYPXq06fht27YZImIsXrzYFF+3bp0pfuzYMaNMmTJGhw4djPz8/IJ5Y8eONUTE6NevX0Fs8+bNhogYmzdvNgzDMHJzc42YmBgjOjraOHnypOl1/n6uIUOGGFZvoY4cDcMwoqOjjejoaOX1XElLSzNExEhOTr7uY4sb6s/79WcYhrF161bD4XAYL7zwglvHFyfUoHdrMDs72xAR46WXXrqu44or6k9//XXo0MGoXr26Ej979qzle1qSUH/euf6tWbPGCAgIMNLT0w3DuPx+hoaG2jpWB5/9GVWrVq0kIiJCqlatKomJiVKuXDlZsWKF3HLLLaZ5gwYNMo2XLVsm5cuXl9atW8vx48cL/l35043NmzeLiMjGjRvl4sWLMmzYMNOtrZEjR7rMLTU1VQ4ePCgjR46UG2+80fSxv5/ranTlmJmZ6fZdDRHhT6j+hvrzXv0dO3ZM+vTpIzExMZKcnHzdxxdX1KD3ahAq6k9f/Z0/f17Kli2rxK+sCzh//rzLcxR31J+++rt48aI89dRT8uSTT8pdd93lcr43+OzPqGbPni21atWSgIAAqVSpktx+++1SqpS59wkICJAqVaqYYvv375fTp09LZGSk5XmPHTsmIiJZWVkiInLbbbeZPh4RESEVKlS4Zm5XbufVqVPH/ifk5RztMgxD3n//falTp46yaLwko/68U39nz56Vjh07yp9//inbt2/36aP3/A016J0ahDXqT1/9BQcHy19//aXEL1y4UPDxko7601d/06dPl+PHj8uECRPcPoen+azZaNy4ccGTCK6mbNmySvHl5+dLZGRkwW/rnfnDU0f8KccdO3ZIVlaWTJkyxWuvWRRQf/pdvHhRunfvLt9//718/vnnbl+4iytqEL5E/elTuXJl2bx5sxiGYfqN9a+//ioiIjfffLPW1y8KqD89Tp8+LSkpKTJ48GA5c+aMnDlzRkQuPwLXMAzJzMyUkJCQqzZCuvjNAnG7atSoIRs3bpT77rvvmr8diI6OFpHLHWb16tUL4tnZ2crTAKxeQ0QkLS3tmo/pvNrtNG/kaNeVzVz69OnjkfOVdNSfPfn5+fI///M/smnTJvnwww+lRYsWhTof/osahC9Rf67FxcXJW2+9JXv37jX9Gcs333xT8HG4h/q7tpMnT0pOTo5MnTpVpk6dqnw8JiZGunTp4vXH4PrNo2/t6tWrl+Tl5cmkSZOUj+Xm5sqpU6dE5PLfAwYGBsqsWbPEMIyCOTNmzHD5GvXr15eYmBiZMWNGwfmu+Pu5rjzv2XmOrhyv97Fnly5dkmXLlkmzZs3k1ltvtX0cro76s1d/w4YNk6VLl8qcOXOke/futo6BPdSge4//hmdQf67rr0uXLhIYGChz5swx5T1v3jy55ZZb5N5773V5Dlij/q5df5GRkbJixQrlX3x8vAQFBcmKFStkzJgx1zyHDkXuzkaLFi0kKSlJpkyZIrt375Y2bdpIYGCg7N+/X5YtWyYzZ86UHj16SEREhDz77LMyZcoU6dixoyQkJEhqaqp89tlnLh+/WapUKZk7d6506tRJ4uLiZMCAAVK5cmXZt2+fpKenF+xG26BBAxERGT58uLRt21ZKly4tiYmJ2nK83seeff755/LHH3+wMNyDqD/X9TdjxgyZM2eONG3aVEJCQmTRokWmj3fr1s3nu5kWZdSgvWvgwoULJSsrS86dOyciIlu3bpWUlBQREXn00UcLfquI60P9ua6/KlWqyMiRI+WVV16RS5cuSaNGjWTlypWybds2Wbx4cYnf0K8wqL9r119ISIh07dpVia9cuVK+/fZby495hZefflXw2LN///vf15zn6jFdb7zxhtGgQQMjODjYCAsLM+rWrWskJycbR48eLZiTl5dnTJgwwahcubIRHBxstGzZ0khLSzOio6Ov+dizK7Zv3260bt3aCAsLM0JDQ43Y2Fhj1qxZBR/Pzc01hg0bZkRERBgOh0N5BJonczSM63/sY2JiohEYGGj88ccfto8p7qg//fV35ZGFV/t38OBBl+cozqhB71wDW7RocdUadP48SxLqzzv1l5eXZ7z88stGdHS0UaZMGaN27drGokWLbB1bnFF/3vsZ8O98/ehbh2H87d4NAAAAAHhIkVuzAQAAAKBooNkAAAAAoAXNBgAAAAAtaDYAAAAAaEGzAQAAAEALmg0AAAAAWtje1O9q27KjZPPWk5OpP1jx5pO7qUFY4RoIX6L+4Et26487GwAAAAC0oNkAAAAAoAXNBgAAAAAtaDYAAAAAaEGzAQAAAEALmg0AAAAAWtBsAAAAANCCZgMAAACAFjQbAAAAALSg2QAAAACgBc0GAAAAAC1oNgAAAABoQbMBAAAAQIsAXycAlATPPvusEgsODjaNY2NjlTk9evSwdf65c+cqsa+++so0Xrhwoa1zAQAAeAp3NgAAAABoQbMBAAAAQAuaDQAAAABa0GwAAAAA0MJhGIZha6LDoTsXFEE2y6fQilL9LV26VInZXejtSRkZGaZxq1atlDmHDh3yVjpaeKv+RIpWDfqLWrVqmcb79u1T5owYMUKJzZo1S1tOnsY10HNCQ0OV2CuvvKLEkpKSlNiuXbuUWM+ePU3jrKysQmTnn6g/+JLd+uPOBgAAAAAtaDYAAAAAaEGzAQAAAEALmg0AAAAAWrCDOFAInlwMbrV49vPPP1di1atXV2KdOnVSYjVq1DCN+/btq8yZMmXK9aQIXJd69eqZxvn5+cqcI0eOeCsd+LnKlSsrsSeeeEKJWdVRgwYNlFjHjh1N49mzZxciOxRl9evXV2Iff/yxaVytWjUvZXNtbdq0UWJ79+41jQ8fPuytdDyCOxsAAAAAtKDZAAAAAKAFzQYAAAAALWg2AAAAAGjBAnHApoYNGyqxbt262To2PT1diXXu3Nk0Pn78uDInJydHiZUpU0aJff3110rs7rvvNo3Dw8Nd5gl4UlxcnGl89uxZZc6KFSu8lA38TUREhGn87rvv+igTFHdt27ZVYmXLlvVBJq5ZPfDlscceM40TExO9lY5HcGcDAAAAgBY0GwAAAAC0oNkAAAAAoIVfr9lw3hzNanOfo0ePKrELFy4oscWLFyux3377zTQ+cODA9aaIEsRqwymHw6HErNZnWP296K+//upWHs8884wSu+uuu1we9+mnn7r1eoAdderUUWJDhw41jRcuXOitdOBnhg8frsS6du1qGjdu3Nijr9m8eXPTuFQp9fere/bsUWJbt271aB7wroAA9UfbhIQEH2Tinl27dimxp59+2jQODQ1V5litifMX3NkAAAAAoAXNBgAAAAAtaDYAAAAAaEGzAQAAAEALv14gPnXqVNO4WrVqbp8rKSlJif3555+msdXCXn9x5MgR09j5vRER2blzp7fSKZE++eQTJVazZk0l5lxXIiInTpzwWB5Wm/kEBgZ67PyAO+644w4l5ryIcenSpd5KB35m+vTpSiw/P1/ra3bv3v2aYxGRrKwsJda7d28lZrVoF/4pPj5eiTVt2lSJWf0c5Q8qVKigxJwfAhMSEqLMYYE4AAAAgBKHZgMAAACAFjQbAAAAALSg2QAAAACghV8vEHfeMTw2NlaZs3fvXiV25513KrH69esrsZYtW5rGTZo0UeYcPnxYiVWtWlWJ2ZGbm6vEsrOzlZjVTtXODh06pMRYIO59VosLPWnUqFFKrFatWraO/eabb645BjwpOTlZiTl/fXCNKhnWrl2rxKx27/akP/74Q4nl5OSYxtHR0cqcmJgYJfbtt98qsdKlSxciO+hSp04dJbZkyRIllpGRocRefvllLTkVVpcuXXydgsdxZwMAAACAFjQbAAAAALSg2QAAAACgBc0GAAAAAC38eoH4pk2brjm+mnXr1tma57xLY1xcnDLHatfQRo0a2Tq/swsXLiixn3/+WYlZLXqvWLGiaWy12AlFW8eOHZXYxIkTlViZMmWU2LFjx5TYmDFjTONz584VIjvgv6pVq6bEGjZsqMScr2/+vMMt3NOiRQsldvvttysxq93C3d1BfN68eUps/fr1Suz06dOm8QMPPKDMGTdunK3XHDRokGk8d+5cW8dBr+eff16JhYaGKrF27dopMecHCPiC8892ItZfU+5+rfgL7mwAAAAA0IJmAwAAAIAWNBsAAAAAtKDZAAAAAKCFXy8Q1+3kyZOm8ebNm20dZ3ehuh0PPfSQEnNeuC4i8sMPP5jGS5cu9VgO8A9WC2ytFoNbsaqHL774otA5AVasFjBayc7O1pwJvMnqwQAffPCBErvpppvcOr/zjvMiIh999JESmzBhghKz8wAMq/P/4x//UGIRERFKbOrUqaZxUFCQMuf1119XYpcuXXKZF+zp0aOHEktISFBiBw4cUGI7d+7UklNhWT2gwGox+JYtW0zjU6dOacpID+5sAAAAANCCZgMAAACAFjQbAAAAALQo0Ws2vC0yMlKJzZkzR4mVKqX2gM6bu504ccJzicEnVq5caRq3adPG1nHvvfeeErPa2AjQpW7durbmOf+dO4q2gAD1RwZ312eIqOvKEhMTlTnHjx93+/zOrNZsTJkyRYlNmzZNiYWEhJjGVrW9evVqJcYGvJ7Ts2dPJeb8/yJi/XOVP7Ba89S3b18llpeXp8RSUlJM46K2Fog7GwAAAAC0oNkAAAAAoAXNBgAAAAAtaDYAAAAAaMECcS8aMmSIErPaPMh5s0ERkZ9++klLTvCOypUrK7F7773XNC5btqwyx2pxpPNCMRGRnJycQmQHXF2TJk2U2IABA5RYamqqEtuwYYOWnFD0WG2q9thjj5nGnlwMbpfVom6rRbuNGjXyRjr4m/Lly5vGVtciK3PnztWRTqFZbSBp9YCFvXv3KjG7m077K+5sAAAAANCCZgMAAACAFjQbAAAAALSg2QAAAACgBQvENbrvvvtM49GjR9s6rmvXrkosLS3NEynBRz766CMlFh4e7vK4RYsWKTF2pIU3tWrVSolVrFhRia1bt06JXbhwQUtO8B+lStn7neU999yjORP3OBwOJWb1Odn5PMePH6/EHn30UbfygvrQlFtuuUWZs2TJEm+lU2g1atSwNa84/rzHnQ0AAAAAWtBsAAAAANCCZgMAAACAFjQbAAAAALRggbhGCQkJpnFgYKAyZ9OmTUrsq6++0pYT9OvcubMSq1+/vsvjtmzZosReeuklT6QEuO3uu+9WYoZhKLHly5d7Ix340JNPPqnE8vPzfZCJ53Tq1EmJ1atXT4k5f55Wn7fVAnG4788//zSNd+/ercyJjY1VYlYPsDhx4oTH8rIrMjLSNO7Ro4et47Zv364jHZ/izgYAAAAALWg2AAAAAGhBswEAAABAC5oNAAAAAFqwQNxDgoODlVi7du1M44sXLypzrBYAX7p0yXOJQSurXcDHjh2rxKweDuDMavFbTk6OW3kB7oiKilJi999/vxL76aeflNiKFSu05AT/YbWY2p9FRESYxnfddZcyx+p6bUd2drYS43u3Z50/f940zsjIUOY89NBDSuzTTz9VYtOmTfNYXnXq1FFi1atXV2LVqlUzja0erGGlqD90wQp3NgAAAABoQbMBAAAAQAuaDQAAAABasGbDQ0aNGqXEnDcGWrdunTLnyy+/1JYT9HvmmWeUWKNGjWwdu3LlStOYDfzga/3791dizhtTiYh89tlnXsgGKJxx48aZxkOGDHH7XJmZmaZxv379lDmHDh1y+/xwzep7pMPhUGIdOnRQYkuWLPFYHsePH1diVusxbrrpJrfOv2DBAreO82fc2QAAAACgBc0GAAAAAC1oNgAAAABoQbMBAAAAQAsWiLvBavHRCy+8oMTOnDljGk+cOFFbTvCNp59+2u1jhw4dahqzgR98LTo62ta8kydPas4EuD5r165VYrfffrvHzv/jjz+axtu3b/fYuWHPvn37lFivXr2UWFxcnBKrWbOmx/JYvny5rXnvvvuuady3b19bxzlvZlgccGcDAAAAgBY0GwAAAAC0oNkAAAAAoAXNBgAAAAAtWCDuQnh4uBL7v//7PyVWunRpJea8YO3rr7/2XGIo8ipWrGgaX7p0yaPnP336tMvzBwYGKrHy5cu7PPeNN96oxAqzWD4vL880fu6555Q5586dc/v8sKdjx4625n3yySeaM4E/stqtuVQpe7+zbN++vcs5b7zxhhK7+eabbZ3fKo/8/Hxbx9rRqVMnj50Leu3evdtWTLf//Oc/bh1Xp04dJZaWllbYdHyKOxsAAAAAtKDZAAAAAKAFzQYAAAAALWg2AAAAAGjBAvG/sVrkvW7dOiUWExOjxDIyMpSY1a7iwBXff/+91vMvW7bMNP7111+VOZUqVVJivXv31paTXb/99psSmzx5sg8yKd6aNWtmGkdFRfkoExQFc+fOVWJTp061deyaNWuUmJ0F3IVZ5O3usfPmzXP7NYErnB+oYPWABStFfTG4Fe5sAAAAANCCZgMAAACAFjQbAAAAALRgzcbf1KhRQ4k1aNDA1rFWG5pZreNA8eK8caOISJcuXXyQiapnz54eO1dubq5pbPdvoVevXq3Edu7c6fK4bdu22UsMhdKtWzfT2GrdWmpqqhLbunWrtpzgvz7++GMlNmrUKCUWERHhjXRcys7ONo337t2rzPnHP/6hxKzWtwHXyzCMa45LEu5sAAAAANCCZgMAAACAFjQbAAAAALSg2QAAAACgRYleIB4dHW0ar1+/3tZxVgvirDYsQvHXvXt3JZacnKzEAgMD3Tp/7dq1lZi7m+698847SiwzM9PWsR999JFpvG/fPrdygO+EhIQosYSEBJfHLV++XInl5eV5JCcULVlZWUosMTFRiXXt2lWJjRgxQkdK1+S8Eejs2bO9ngNKrqCgIJdzzp8/74VMfI87GwAAAAC0oNkAAAAAoAXNBgAAAAAtaDYAAAAAaOEwbG5p6HA4dOfidc6Lx8aMGWPruMaNGysxO7siF0fe2hGzONYfCs+bO7IW9Rq0ekjBF198YRofO3ZMmdOnTx8ldu7cOc8lVsRxDbSnXbt2Ssx59+5OnTopc1avXq3E3njjDSVm9f78+OOPpvGhQ4dc5lnUUH/+67fffjONAwLUZzJNmjRJic2cOVNbTp5mt/64swEAAABAC5oNAAAAAFrQbAAAAADQgmYDAAAAgBYlZoF4s2bNlNjatWtN43Llytk6FwvE/4vFafAlFojD17gGwpeoP//1ySefmMbTpk1T5mzevNlb6WjBAnEAAAAAPkWzAQAAAEALmg0AAAAAWtBsAAAAANBC3c6wmLr//vuVmJ0F4RkZGUosJyfHIzkBAACg+OnUqZOvU/Ab3NkAAAAAoAXNBgAAAAAtaDYAAAAAaFFi1mzYsWfPHiX24IMPKrETJ054Ix0AAACgSOPOBgAAAAAtaDYAAAAAaEGzAQAAAEALmg0AAAAAWjgMwzBsTXQ4dOeCIshm+RQa9Qcr3qo/EWoQ1rgGwpeoP/iS3frjzgYAAAAALWg2AAAAAGhBswEAAABAC5oNAAAAAFrYXiAOAAAAANeDOxsAAAAAtKDZAAAAAKAFzQYAAAAALWg2AAAAAGhBswEAAABAC5oNAAAAAFrQbAAAAADQgmYDAAAAgBY0GwAAAAC0oNkAAAAAoAXNBgAAAAAtaDYAAAAAaEGzAQAAAEALmg0AAAAAWtBsAAAAANCCZgMAAACAFjQbAAAAALSg2QAAAACgBc0GAAAAAC1oNgAAAABoQbMBAAAAQAuaDQAAAABa0GwAAAAA0IJmAwAAAIAWNBsAAAAAtKDZAAAAAKAFzQYAAAAALWg2AAAAAGhBswEAAABAC5oNAAAAAFrQbAAAAADQgmYDAAAAgBY0GwAAAAC0oNkAAAAAoAXNBgAAAAAtaDYAAAAAaEGzAQAAAEALmg0AAAAAWtBsAAAAANCCZgMAAACAFjQbAAAAALSg2QAAAACgBc0GAAAAAC1oNgAAAABoQbMBAAAAQAuaDQAAAABa0GwAAAAA0IJmAwAAAIAWNBsAAAAAtKDZAAAAAKAFzQYAAAAALWg2AAAAAGhBswEAAABAC5oNAAAAAFqUyGajWrVq0r9//4Lxli1bxOFwyJYtW3yWkzPnHFF8UH/wNWoQvkT9wZeoP+/zerOxYMECcTgcBf+CgoKkVq1aMnToUPn999+9nU6hrF27VsaPH+/rNCxNnjxZOnfuLJUqVRKHw+G3eXob9ed9ixcvFofDIeXKlfN1Kn6BGvSOAwcOSI8ePaRChQoSEhIizZo1k82bN/s6LZ+j/rwnIyND+vTpI5GRkRIcHCy33XabjBs3ztdp+RT15x3+dv0L8NULT5w4UWJiYuTChQuyfft2mTt3rqxdu1bS0tIkJCTEq7k0b95czp8/L2XKlLmu49auXSuzZ8/2y2J7/vnnJSoqSurVqyeff/65r9PxO9Sfd+Tk5EhycrKEhob6OhW/Qw3qc/jwYWnatKmULl1aRo0aJaGhoTJ//nxp06aNbNq0SZo3b+7rFH2O+tNr9+7d0rJlS7nlllvkmWeekfDwcDl06JAcPnzY16n5BepPH3+8/vms2Wjfvr00bNhQREQGDhwo4eHhMm3aNFm1apU8/PDDlsecPXtWyw8tpUqVkqCgII+f15cOHjwo1apVk+PHj0tERISv0/E71J93pKSkSFhYmMTHx8vKlSt9nY5foQb1+ec//ymnTp2StLQ0uf3220VE5IknnpA77rhDnnrqKdm1a5ePM/Q96k+f/Px8efTRR+WOO+6QzZs3S3BwsK9T8jvUnz7+eP3zmzUbDzzwgIhc/iFZRKR///5Srlw5ycjIkISEBAkLC5O+ffuKyOUv5BkzZkjt2rUlKChIKlWqJElJSXLy5EnTOQ3DkJSUFKlSpYqEhIRIfHy8pKenK699tb/X++abbyQhIUEqVKggoaGhEhsbKzNnzizIb/bs2SIipluCV3g6R5HLt2QzMjJsvZ/VqlWzNQ+XUX+erT8Rkf3798v06dNl2rRpEhDgs99rFBnUoOdqcNu2bVKvXr2Cb7QiIiEhIdK5c2f57rvvZP/+/S7PUdJQf56rv/Xr10taWpq89NJLEhwcLOfOnZO8vDyXx5Vk1F/xvv75zU8AV97A8PDwglhubq60bdtWmjVrJq+++mrBrbWkpCRZsGCBDBgwQIYPHy4HDx6U119/XVJTU2XHjh0SGBgoIiIvvviipKSkSEJCgiQkJMh3330nbdq0kYsXL7rMZ8OGDdKxY0epXLmyjBgxQqKiomTv3r2yZs0aGTFihCQlJcnRo0dlw4YNsnDhQuV4HTk++OCDIiKSmZl5fW8uXKL+PF9/I0eOlPj4eElISJAPP/zQ1jElGTXouRr866+/pEKFCkr8yvu3a9cuue2221y+ByUJ9ee5+tu4caOIiJQtW1YaNmwou3btkjJlyki3bt1kzpw5UrFiRZeff0lD/RXz65/hZfPnzzdExNi4caORnZ1tHD582Pjggw+M8PBwIzg42Dhy5IhhGIbRr18/Q0SM0aNHm47ftm2bISLG4sWLTfF169aZ4seOHTPKlCljdOjQwcjPzy+YN3bsWENEjH79+hXENm/ebIiIsXnzZsMwDCM3N9eIiYkxoqOjjZMnT5pe5+/nGjJkiGH1FurI0TAMIzo62oiOjlZe71qys7MNETFeeuml6zquuKL+vFN/a9asMQICAoz09HTDMC6/n6GhobaOLe6oQf012KlTJ+PGG280zpw5Y4o3bdrUEBHj1VdfdXmO4or6019/nTt3NkTECA8PN/r27WssX77ceOGFF4yAgADj3nvvNb1WSUP9lczrn8/+jKpVq1YSEREhVatWlcTERClXrpysWLFCbrnlFtO8QYMGmcbLli2T8uXLS+vWreX48eMF/xo0aCDlypUrWG2/ceNGuXjxogwbNsx0a2vkyJEuc0tNTZWDBw/KyJEj5cYbbzR97O/nuhpdOWZmZnJXw0OoP331d/HiRXnqqafkySeflLvuusvl/JKKGtRXg4MGDZJTp05J7969JTU1VX7++WcZOXKk7Ny5U0REzp8/7/IcxR31p6/+cnJyRESkUaNGsmjRInnooYdk4sSJMmnSJPnyyy9l06ZNLs9R3FF/Jev657M/o5o9e7bUqlVLAgICpFKlSnL77bdLqVLm3icgIECqVKliiu3fv19Onz4tkZGRluc9duyYiIhkZWWJiCi3iiIiIixvL/3dldt5derUsf8JeTlHFA71p6/+pk+fLsePH5cJEya4fY6SgBrUV4Pt27eXWbNmyejRo6V+/foiIlKzZk2ZPHmyJCcn8xhmof4Km+O1XFkQ7rzQuU+fPjJmzBj58ssvpVWrVm6fvzig/krW9c9nzUbjxo0LnkRwNWXLllWKLz8/XyIjI2Xx4sWWx/jDk5eKQo4lHfWnx+nTpyUlJUUGDx4sZ86ckTNnzojI5d/0GYYhmZmZEhISctWLcElCDeo1dOhQGTBggHz//fdSpkwZiYuLk7fffltERGrVqqX99f0d9afPzTffLCIilSpVMsWvXPecFwmXRNSfXv52/fObBeJ21ahRQzZu3Cj33XffNR8nFx0dLSKXO8zq1asXxLOzs11+odeoUUNERNLS0q7524er3U7zRo7wDerv2k6ePCk5OTkydepUmTp1qvLxmJgY6dKlC4/BLQRq0L7Q0FBp2rRpwXjjxo0SHBws9913X6HPXVJRf641aNBA3nzzTfnll19M8aNHj4qIf/xAXFRRf/b50/XPbx59a1evXr0kLy9PJk2apHwsNzdXTp06JSKX/x4wMDBQZs2aJYZhFMyZMWOGy9eoX7++xMTEyIwZMwrOd8Xfz3Xlec/Oc3TleL2PHoXnUX/Xrr/IyEhZsWKF8i8+Pl6CgoJkxYoVMmbMmGueA9dGDbp3Dfzyyy/l448/lscff1zKly/v1jlA/dmpvy5dukjZsmVl/vz5kp+fXxB/6623RESkdevWLs8Ba9Rf0bz+Fbk7Gy1atJCkpCSZMmWK7N69W9q0aSOBgYGyf/9+WbZsmcycOVN69OghERER8uyzz8qUKVOkY8eOkpCQIKmpqfLZZ5/JTTfddM3XKFWqlMydO1c6deokcXFxMmDAAKlcubLs27dP0tPTC3bkbtCggYiIDB8+XNq2bSulS5eWxMREbTlez6NHFy5cKFlZWXLu3DkREdm6daukpKSIiMijjz5a0FHj+lB/166/kJAQ6dq1qxJfuXKlfPvtt5Yfw/WhBl1fA7OysqRXr17SuXNniYqKkvT0dJk3b57ExsbKyy+/7Ma7jiuoP9f1FxUVJePGjZMXX3xR2rVrJ127dpU9e/bIm2++KQ8//LA0atTIjXceItSfSBG9/nn78VdXHnv273//+5rzXD0q84033jAaNGhgBAcHG2FhYUbdunWN5ORk4+jRowVz8vLyjAkTJhiVK1c2goODjZYtWxppaWlGdHT0NR97dsX27duN1q1bG2FhYUZoaKgRGxtrzJo1q+Djubm5xrBhw4yIiAjD4XAoj0DzZI6GcX2PHm3RooUhIpb/nD/PkoT68079OePRt/9FDeqvwRMnThhdunQxoqKijDJlyhgxMTHGc889pzwKsiSi/rxzDczPzzdmzZpl1KpVywgMDDSqVq1qPP/888bFixdtHV9cUX8l8/rnMIy/3bsBAAAAAA8pcms2AAAAABQNNBsAAAAAtKDZAAAAAKAFzQYAAAAALWg2AAAAAGhBswEAAABAC9ub+l1tW3aUbN56cjL1ByvefHI3NQgrXAPhS9QffMlu/XFnAwAAAIAWNBsAAAAAtKDZAAAAAKAFzQYAAAAALWg2AAAAAGhBswEAAABAC5oNAAAAAFrQbAAAAADQgmYDAAAAgBY0GwAAAAC0oNkAAAAAoAXNBgAAAAAtaDYAAAAAaEGzAQAAAEALmg0AAAAAWtBsAAAAANCCZgMAAACAFjQbAAAAALQI8HUCAAAAulWoUEGJ3XrrrW6dKysrS4k99dRTSiwtLU2J/fzzz0psz549buUBFAXc2QAAAACgBc0GAAAAAC1oNgAAAABoQbMBAAAAQAsWiGvUqVMn03j16tXKnKFDhyqxefPmKbG8vDzPJQatIiMjldiHH36oxL788kvT+I033lDmZGZmeiwvTypfvrwSa968uRJbt26dErt06ZKWnACUXB06dFBinTt3No1btmypzKlZs6Zbr2e1yDs6OlqJlS1b1tb5Spcu7VYeQFHAnQ0AAAAAWtBsAAAAANCCZgMAAACAFjQbAAAAALRwGIZh2JrocOjOpUgLDw9XYrt37zaNq1SpYutcISEhSuz8+fNu5aWbzfIpNH+tP6sdaa0WDlotqF6xYoVp3Lt3b88l5mHO+e/atUuZExERocQaNGigxA4cOOCxvLxVfyL+W4OFccMNN5jGU6ZMUebUqVNHibVq1UqJldSF/yX9GuhJNWrUUGJDhgxRYk888YQSCw4OVmJF6T1zd4E49Qdfslt/3NkAAAAAoAXNBgAAAAAtaDYAAAAAaMGmfh5itaGZnTUaS5YsUWIXLlzwSE7wrJtuukmJLV26VIlVrFhRic2ZM0eJDRs2zDOJecHzzz9vGsfExChzkpKSlJgn12egcPr27avEJk+ebBpXrVrV1rmc13qIiPzxxx/uJQb8f1bfM0eMGOGDTFT79u0zjdPT032UCbzJatNHq58FunXrpsScN5HMz89X5lht4rxjxw4lVtS/l3JnAwAAAIAWNBsAAAAAtKDZAAAAAKAFzQYAAAAALdjUzw1ly5ZVYlYLeqw2NHOWkJCgxD777DP3EvOBkrShUJs2bZSY3f+rqKgoJZadnV3onHSoXbu2Evvhhx9MY+cNCUVE+vfvr8T+/PNPj+VlhU39rFkttE1NTVVizpuR2n0/rR6MMHToUCV24sQJW+crykrSNdCK1WJZq0XdVt8j161bZxo3adJEmbN27VoldvbsWSUWGhqqxNavX28ap6WlKXO++eYbJWb1teK8sa5VDr5Q0uuvMJw3LLW6hnXv3l2JWdW8J+Xm5iqxn376yTTevn27Msfq6+7ixYueS8wCm/oBAAAA8CmaDQAAAABa0GwAAAAA0IJmAwAAAIAW7CDuhrp16yoxO4vBrRb9FKXF4CVNZGSkafzQQw/ZOu7xxx9XYkVpMfjGjRtdHme1QFz3YnDY9+yzzyoxq53t3dW7d28l1q5dOyXmvEP5rFmzlDm6FzDCc+wswhYRufvuu5WY1Q7Lzr7++mslVr9+fSWWmZmpxG699VYlduTIEdPYagdnFD+xsbFKbMiQIUrM+Tp2ww032Dr/L7/8osS2bdumxA4ePGgaJycnK3N27dqlxBo3bqzEnK/fVg8X2rNnjxKz2qHcF7izAQAAAEALmg0AAAAAWtBsAAAAANCCZgMAAACAFiwQd4PdhcLOrBbSwX+99tprpvEjjzyizLFa3LVs2TJtOXna/fffr8QqVaqkxBYsWGAaL1q0SFdKuE7R0dFKbMCAAbaO/f77703j33//XZnTqlUrW+cqX768EnNeqL548WJlzm+//Wbr/PC+MmXKmMbvv/++MsdqMfjLL7+sxOw8eMKK1WJwK4cOHXLr/Cja/vWvfykxq4cR2Nn1e9OmTUrshx9+UGJjx45VYhcuXHB5/nvvvVeJDRo0SIm98847SiwuLs40trpWz549W4l99NFHSswXD6zhzgYAAAAALWg2AAAAAGhBswEAAABAC5oNAAAAAFqwQNwNzZs3tzXPeWfccePG6UgHmhiGYRpb7T579OhRJeYvOyIHBwebxlaL2gYPHqzEnD9vEZHHHnvMc4nBo5wXDoqIhIWFKTGrHW5btGhhGgcFBSlzHn74YSVmVUs1atRQYlFRUabxqlWrlDnt27dXYidOnFBi0KtcuXJKbMyYMaZxx44dlTnHjx9XYq+++qoSO3fuXCGyQ0nkfD2y2oF74MCBSszhcCgxq0XRc+fONY1feeUVZc7Zs2dd5mlXeHi4EitdurQSGz9+vBJbt26daWz1YBB/xp0NAAAAAFrQbAAAAADQgmYDAAAAgBas2XDBahMWq5gV57/12717tydSgh/p0KGDErPavPHUqVNKzPnvRQvD+W/vRURatmxpGjdp0sTWuZYvX+6JlOAlZcuWVWJW626mT5/u8lxWG1PNnz9fifXs2VOJVa9e3eX5rf5u31/WOJV0Xbt2VWKjR482ja02zrPaGPT06dMeywsll/P3sFGjRilzrNZn/PLLL0rMajPmb7/91v3knFitvahatapp/N577ylz1q5dq8QqVKjg8vWsPu+FCxcqMaufPXyBOxsAAAAAtKDZAAAAAKAFzQYAAAAALWg2AAAAAGjBAnEXGjVq5PaxnlwADO+bOXOmaRwfH6/Mufnmm5WY1aaPVou5OnfuXIjsXJ/fapGws//85z9KzGrDNvgvq033rFg9zGDlypVuvWbDhg3dOu7rr79WYjk5OW6dC55l58EnqampSuzIkSM60gGURdd5eXm2jsvNzVVi99xzjxLr0aOHaXzHHXfYOv/58+eV2J133ukyZrUBZqVKlWy9prPff/9diaWkpCixS5cuuXV+T+POBgAAAAAtaDYAAAAAaEGzAQAAAEALmg0AAAAAWjgMO6tIxXoBaklgtSPjI488osSsdmmsW7euaVwcF9LZLJ9C84f6s9rVMy4uTom1a9dOiVntfHrs2DHT+N1333U7N6s63bNnj8vjFi1apMT69evndh7e5q36E/GPGrTSq1cvJbZkyRIl9sMPPyixxMRE09j5miUi0q1bNyVmtYP4mTNnlJjz18yJEyeUOVYPVPjxxx+VmL8qLtdA5+uRiEh4eLhp/Ndffylz/vd//1eJrVq1Sont3r3b/eRwVcWl/qwEBwebxu+//74yp1WrVkosJCREiZUqpf5u3c57Z7Uo3Wq3cE/Kz89XYitWrDCNhw8frsz59ddfteV0NXbrjzsbAAAAALSg2QAAAACgBc0GAAAAAC1oNgAAAABowQLxv2nWrJkS++KLL5SY1UKjrKwsJVatWjWP5OXPivPitKKkevXqSuzAgQOmsdUCzbZt2yqx7Oxsj+WlGwvERSpWrKjEnP/vRUTKly+vxJw/J7vv58aNG5XYkCFDlNiaNWtM49tuu02Z8+abbyqxJ5980lYe/qC4XAOtPg+rhap2WB03b948Jea8o/ytt96qzLGq5fT0dFt51K5d2zT+6quvlDlF/cEtxaX+3HXjjTcqsdGjRyux++67T4n98ccfpvGhQ4eUOWXLllVid999txJr3LjxtdK8LlZfK2PHjjWNrR5K5AssEAcAAADgUzQbAAAAALSg2QAAAACgBc0GAAAAAC0CfJ2AP3HeLVXEejG4lQ0bNng6HcC2F198UYk5L9x67rnnlDlFaTE4rFntym21q/jy5cuVmNWicWezZs1SYla1dOHCBSX28ccfm8ZWCzetHlJQo0YNJZaRkXHNPFE4r776qhJ7+umn3TqX1ffNwYMH24rpZHW927JlixJLTEz0QjbwBKuF0lbXGU967733lJidBeJ//vmnErP6GluwYIESs9rJvCjhzgYAAAAALWg2AAAAAGhBswEAAABACzb1+5uFCxcqsUceeUSJWf2NYOvWrZXYzp07PZKXPyvpGwr5Qs+ePZXY0qVLlZjz34fGx8crc7777jvPJeYDbOpnX6tWrZRYnz59TGOra5vVeqCcnBxbrxkcHGwav//++8qczp07K7FFixYpsX79+tl6TW8rLtfA0qVLK7F69eqZxlb/fwEB6tLPqlWrKjG76x+9zer/b/z48UosJSXFC9lcv+JSf/4qOTlZiVnVgtXXgbO+ffsqsSVLlriXmJ9gUz8AAAAAPkWzAQAAAEALmg0AAAAAWtBsAAAAANCiRC8Qr1KlimmclZWlzLFa1JaWlqbE6tat67nEihAWp3nfO++8o8T69++vxJwXnlktTivqWCBetFhtlrZ48WIl9ssvvyixuLg409hqM0Nf4BqoevDBB5VYYGCgEnNeiN2oUSNdKV2X1atXK7Fu3br5IBPXqD/PGThwoBKbNm2aEitXrpyt86Wnp5vGDRs2VOb89ddfNrPzTywQBwAAAOBTNBsAAAAAtKDZAAAAAKAFzQYAAAAALVxveViM3Xvvvaax3R1OV65cqSEbwJ727dsrsbNnzyqx1157zRvpALZ9+OGHSsxqB/HevXsrsaFDh5rGEydO9Fxi8KhNmzbZmue86N9qgXhubq4Smz9/vhJ78803ldjIkSNN4z59+tjKCyVD48aNTWOr75l2F4Pn5OQosSeffNI0LuqLwQuDOxsAAAAAtKDZAAAAAKAFzQYAAAAALWg2AAAAAGhRoheIh4eHu5xz/PhxJTZz5kwd6QAK5wVmIiKVKlVSYseOHVNi3333nZacAHfl5+crsalTpyqxLl26KLGXXnrJNP7ggw+UOT///HMhsoO3rV+/3jSePHmyMicgQP0x5YknnlBiNWvWVGItW7Z0K68jR464dRyKlk6dOpnGYWFhto6zeiCL1YMuduzY4V5ixRB3NgAAAABoQbMBAAAAQAuaDQAAAABalOg1G23btnU559ChQ0rs9OnTOtIBFFZrNgzDUGKffvqpy3NZ/T1qhQoVlJhVzQO67N69W4m9+OKLSuyVV14xjV9++WVlzqOPPqrEzp8/735y0Grv3r2msdWmj7169bJ1rvj4eJdz8vLylJjVtXP06NG2XhNFh9X3v+TkZLfOtXjxYiW2ZcsWt85VUnBnAwAAAIAWNBsAAAAAtKDZAAAAAKAFzQYAAAAALUrMAvHAwEAlVqNGDZfHXbhwQYldunTJIzkBnmK18LFv376m8VNPPaXMSU9PV2L9+vXzXGKAG9577z0llpSUZBp3795dmTNx4kQl9v3333suMXiU8+L9kSNHKnPKlSunxBo2bKjEIiMjlVhmZqZpvHDhQmXO+PHjr50kihyrmvnxxx+VmNXPhc6srh9WdYpr484GAAAAAC1oNgAAAABoQbMBAAAAQAuaDQAAAABalJgF4vn5+Ups586dpnGdOnWUOQcOHNCWE+ApAwcOVGKPP/64afz2228rcyZNmqQtJ8Bd2dnZSqxVq1amsfPiXxGR5557Tok5PygB/uv3339XYp06dVJiVjvFN2nSRIlNmDDBND527FghskNR8cADDyixKlWqKDHDMFyey+rBKlYPDsK1cWcDAAAAgBY0GwAAAAC0oNkAAAAAoAXNBgAAAAAtHIadFTIi4nA4dOfidTfffLNpnJKSoszZtWuXEps9e7a2nIoam+VTaMWx/uxo1qyZErPaJXnr1q1KbO7cuabxyZMnlTkXL14sRHa+5636Eym5Neiv1q9fr8SaNm2qxO655x4lZrWbsLu4BsKXqD/Vnj17lFjdunVdHvfKK68oMauHTuC/7NYfdzYAAAAAaEGzAQAAAEALmg0AAAAAWtBsAAAAANCiRC8QR+GxOA2+xALxkuuGG25QYlYLQ0eMGKHEVq9e7bE8uAbCl6g/1eHDh5WY1Q7izjvKx8XFKXN+/fVXj+VVHLFAHAAAAIBP0WwAAAAA0IJmAwAAAIAWAb5OAACA63XmzBklFhMT44NMAPiTadOm2YpNmjTJNGZ9hj7c2QAAAACgBc0GAAAAAC1oNgAAAABoQbMBAAAAQAs29UOhsKEQfIlN/eBrXAPhS9QffIlN/QAAAAD4FM0GAAAAAC1oNgAAAABoQbMBAAAAQAvbC8QBAAAA4HpwZwMAAACAFjQbAAAAALSg2QAAAACgBc0GAAAAAC1oNgAAAABoQbMBAAAAQAuaDQAAAABa0GwAAAAA0IJmAwAAAIAW/w8/p8mVKPOJngAAAABJRU5ErkJggg==)"
      ],
      "metadata": {
        "id": "bovTFzvD2qBX"
      }
    },
    {
      "cell_type": "markdown",
      "source": [
        "# **Problem Statement**\n"
      ],
      "metadata": {
        "id": "BOe2QqxI3CRo"
      }
    },
    {
      "cell_type": "markdown",
      "source": [
        "In today's digital landscape, recognizing handwritten digits has emerged as a critical need. Our project aims to develop an accurate Handwritten Digit Recognition System utilizing the MNIST dataset and Neural Network technology.\n",
        "\n",
        "The challenge lies in effectively identifying and classifying scanned images of handwritten numerals. Conventional methods often struggle due to diverse writing styles and inherent complexities. We propose a solution that leverages Neural Networks, proven for their prowess in pattern recognition.\n",
        "\n",
        "We prioritize the MNIST dataset, a renowned benchmark in image classification. Our goal is to train a Neural Network to discern digits within scanned images with high precision. This project extends beyond technical achievement; it advances automated digit recognition for historical documents, form processing, and seamless integration.\n",
        "\n",
        "By uniting traditional and modern techniques, our project bridges the gap between handwritten digit recognition methods. Through innovation, we aspire to develop a system that not only detects images of handwritten digits but also showcases Neural Networks' potential.\n",
        "\n",
        "**Keywords:** Handwritten Digit Recognition, MNIST Dataset, Neural Network, Image Classification, Innovation, Automated Digit Recognition."
      ],
      "metadata": {
        "id": "VLEK0bBp4BpV"
      }
    },
    {
      "cell_type": "markdown",
      "source": [
        "# **Algorithm Used**"
      ],
      "metadata": {
        "id": "O7ATj2qb4iTE"
      }
    },
    {
      "cell_type": "markdown",
      "source": [
        " **Neural Network**"
      ],
      "metadata": {
        "id": "cQIwQre54jx8"
      }
    },
    {
      "cell_type": "markdown",
      "source": [
        "# ***Let's Begin***"
      ],
      "metadata": {
        "id": "nZK5nSSu4467"
      }
    },
    {
      "cell_type": "markdown",
      "source": [
        "### Import Libraries"
      ],
      "metadata": {
        "id": "ZPzGJIhz49NP"
      }
    },
    {
      "cell_type": "code",
      "execution_count": 1,
      "metadata": {
        "id": "o-ZlOXGn1WG7"
      },
      "outputs": [],
      "source": [
        "#Importing Libraries\n",
        "import tensorflow as tf\n",
        "from tensorflow.keras.datasets import mnist\n",
        "from tensorflow.keras.models import Sequential\n",
        "from tensorflow.keras.layers import Dense, Flatten\n",
        "import numpy as np\n",
        "import matplotlib.pyplot as plt\n"
      ]
    },
    {
      "cell_type": "markdown",
      "source": [
        "### Load and Preprocess the MNIST Dataset:"
      ],
      "metadata": {
        "id": "Pf6CTl8R5dIi"
      }
    },
    {
      "cell_type": "code",
      "source": [
        "# Load the MNIST dataset\n",
        "(x_train, y_train), (x_test, y_test) = mnist.load_data()\n",
        "\n",
        "# Normalize pixel values to be between 0 and 1\n",
        "x_train, x_test = x_train / 255.0, x_test / 255.0\n"
      ],
      "metadata": {
        "colab": {
          "base_uri": "https://localhost:8080/"
        },
        "id": "R9YgGLdp1gI7",
        "outputId": "43e1b752-f61a-4d5c-f99b-0908f24947fc"
      },
      "execution_count": 2,
      "outputs": [
        {
          "output_type": "stream",
          "name": "stdout",
          "text": [
            "Downloading data from https://storage.googleapis.com/tensorflow/tf-keras-datasets/mnist.npz\n",
            "11490434/11490434 [==============================] - 0s 0us/step\n"
          ]
        }
      ]
    },
    {
      "cell_type": "markdown",
      "source": [
        "### Build the Neural Network Model:"
      ],
      "metadata": {
        "id": "B_Z9HSg65iy6"
      }
    },
    {
      "cell_type": "code",
      "source": [
        "model = Sequential([\n",
        "    Flatten(input_shape=(28, 28)),    # Flatten 28x28 images to a 1D array\n",
        "    Dense(128, activation='relu'),     # Fully connected layer with 128 neurons\n",
        "    Dense(10, activation='softmax')    # Output layer with 10 neurons (one for each digit)\n",
        "])\n"
      ],
      "metadata": {
        "id": "ppSqJIg-1lDi"
      },
      "execution_count": 3,
      "outputs": []
    },
    {
      "cell_type": "markdown",
      "source": [
        "### Compile the Model:"
      ],
      "metadata": {
        "id": "frDXeGAu5qL6"
      }
    },
    {
      "cell_type": "code",
      "source": [
        "model.compile(optimizer='adam',\n",
        "              loss='sparse_categorical_crossentropy',\n",
        "              metrics=['accuracy'])\n"
      ],
      "metadata": {
        "id": "rfqSw1pB1pwK"
      },
      "execution_count": 4,
      "outputs": []
    },
    {
      "cell_type": "markdown",
      "source": [
        "### Train the Model:"
      ],
      "metadata": {
        "id": "uk1x2f_b5tze"
      }
    },
    {
      "cell_type": "code",
      "source": [
        "model.fit(x_train, y_train, epochs=5)\n"
      ],
      "metadata": {
        "colab": {
          "base_uri": "https://localhost:8080/"
        },
        "id": "jU-ajuTp1tWy",
        "outputId": "4dd7cae4-1ca4-4c62-c1c6-9c192aa2dd12"
      },
      "execution_count": 5,
      "outputs": [
        {
          "output_type": "stream",
          "name": "stdout",
          "text": [
            "Epoch 1/5\n",
            "1875/1875 [==============================] - 9s 5ms/step - loss: 0.2610 - accuracy: 0.9252\n",
            "Epoch 2/5\n",
            "1875/1875 [==============================] - 7s 4ms/step - loss: 0.1135 - accuracy: 0.9666\n",
            "Epoch 3/5\n",
            "1875/1875 [==============================] - 10s 5ms/step - loss: 0.0781 - accuracy: 0.9760\n",
            "Epoch 4/5\n",
            "1875/1875 [==============================] - 19s 10ms/step - loss: 0.0585 - accuracy: 0.9822\n",
            "Epoch 5/5\n",
            "1875/1875 [==============================] - 16s 8ms/step - loss: 0.0464 - accuracy: 0.9858\n"
          ]
        },
        {
          "output_type": "execute_result",
          "data": {
            "text/plain": [
              "<keras.callbacks.History at 0x7de57e0f2dd0>"
            ]
          },
          "metadata": {},
          "execution_count": 5
        }
      ]
    },
    {
      "cell_type": "markdown",
      "source": [
        "### Evaluate the Model:"
      ],
      "metadata": {
        "id": "A7IDvrKw5zIW"
      }
    },
    {
      "cell_type": "code",
      "source": [
        "test_loss, test_acc = model.evaluate(x_test, y_test, verbose=2)\n",
        "print('\\nTest accuracy:', test_acc)\n"
      ],
      "metadata": {
        "colab": {
          "base_uri": "https://localhost:8080/"
        },
        "id": "Cvj-ZrhN1vFJ",
        "outputId": "fe958838-87fa-463b-c5fc-b02c31fd3d24"
      },
      "execution_count": 6,
      "outputs": [
        {
          "output_type": "stream",
          "name": "stdout",
          "text": [
            "313/313 - 1s - loss: 0.0747 - accuracy: 0.9763 - 618ms/epoch - 2ms/step\n",
            "\n",
            "Test accuracy: 0.9763000011444092\n"
          ]
        }
      ]
    },
    {
      "cell_type": "code",
      "source": [
        "### Make Predictions:"
      ],
      "metadata": {
        "id": "lyq7uAIH54Ak"
      },
      "execution_count": null,
      "outputs": []
    },
    {
      "cell_type": "code",
      "source": [
        "predictions = model.predict(x_test)\n"
      ],
      "metadata": {
        "colab": {
          "base_uri": "https://localhost:8080/"
        },
        "id": "MIoPS4Rz1xep",
        "outputId": "3642ab24-8d45-4816-eca6-008435d5649c"
      },
      "execution_count": 7,
      "outputs": [
        {
          "output_type": "stream",
          "name": "stdout",
          "text": [
            "313/313 [==============================] - 1s 2ms/step\n"
          ]
        }
      ]
    },
    {
      "cell_type": "markdown",
      "source": [
        "### Visualize Results:"
      ],
      "metadata": {
        "id": "TUk6Dzqy58Hz"
      }
    },
    {
      "cell_type": "code",
      "source": [
        "plt.figure(figsize=(10, 5))\n",
        "for i in range(10):\n",
        "    plt.subplot(2, 5, i + 1)\n",
        "    plt.imshow(x_test[i], cmap='gray')\n",
        "    plt.title(f'Predicted: {np.argmax(predictions[i])}')\n",
        "    plt.axis('off')\n",
        "plt.show()\n"
      ],
      "metadata": {
        "colab": {
          "base_uri": "https://localhost:8080/",
          "height": 402
        },
        "id": "iUPgJjgl10ND",
        "outputId": "a5457126-0cfd-4370-b35e-304dc0b8340d"
      },
      "execution_count": 8,
      "outputs": [
        {
          "output_type": "display_data",
          "data": {
            "text/plain": [
              "<Figure size 1000x500 with 10 Axes>"
            ],
            "image/png": "[encoded data removed]"
          },
          "metadata": {}
        }
      ]
    },
    {
      "cell_type": "markdown",
      "source": [
        "### Save and Load the Model (Optional):"
      ],
      "metadata": {
        "id": "b57A3rk_6Akb"
      }
    },
    {
      "cell_type": "code",
      "source": [
        "# Save the model\n",
        "model.save('number_recognition_model.h5')\n",
        "\n",
        "# Load the model\n",
        "loaded_model = tf.keras.models.load_model('number_recognition_model.h5')\n"
      ],
      "metadata": {
        "id": "Lu-vtNmk11-5"
      },
      "execution_count": 9,
      "outputs": []
    },
    {
      "cell_type": "markdown",
      "source": [
        "# ***Conclusion***"
      ],
      "metadata": {
        "id": "dB1wGsdB6wof"
      }
    },
    {
      "cell_type": "markdown",
      "source": [
        "Our project has successfully realized a robust Handwritten Digit Recognition System, powered by the integration of Neural Networks and the MNIST dataset. This solution proficiently identifies and classifies scanned handwritten digit images, showcasing the capacity of contemporary machine learning methodologies.\n",
        "\n",
        "By bridging conventional digit recognition techniques with cutting-edge technology, our project underscores the efficacy of Neural Networks in deciphering intricate patterns inherent to human handwriting.\n",
        "\n",
        "Through rigorous training and methodical optimization, our model attains commendable accuracy, rendering it a valuable asset for diverse digit recognition applications. Beyond its technical prowess, the project holds practical implications for digitizing historical documents, automating data entry tasks, and enhancing document processing workflows.\n",
        "\n",
        "Furthermore, this venture spotlights the transformative role of technology in addressing real-world complexities. It provides not only a functional solution but also emphasizes the broader impact of automation on various processes.\n",
        "\n",
        "We extend our heartfelt appreciation to Bharat Intern for their pivotal role in providing us with this remarkable opportunity. Their steadfast support has been instrumental in enabling us to delve into the realm of automated image classification and pattern recognition, further enriching our skills and knowledge.\n"
      ],
      "metadata": {
        "id": "p46uwPrr63E3"
      }
    }
  ]
}